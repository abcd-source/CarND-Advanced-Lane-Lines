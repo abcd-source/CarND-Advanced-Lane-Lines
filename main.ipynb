{
 "cells": [
  {
   "cell_type": "code",
   "execution_count": 1,
   "metadata": {},
   "outputs": [],
   "source": [
    "#importing some useful packages\n",
    "import matplotlib.pyplot as plt\n",
    "import matplotlib.image as mpimg\n",
    "import numpy as np\n",
    "import cv2\n",
    "import math\n",
    "import os\n",
    "import glob\n",
    "%matplotlib inline"
   ]
  },
  {
   "cell_type": "code",
   "execution_count": 2,
   "metadata": {},
   "outputs": [
    {
     "name": "stdout",
     "output_type": "stream",
     "text": [
      "performing calibration on 20 images in camera_cal...\n",
      "calibration complete\n"
     ]
    }
   ],
   "source": [
    "\"\"\"\n",
    "The Camera class is used to calculate calibration parameters\n",
    "based on a set of calibration images passed to the calibrate()\n",
    "method. This class can be used dewarp an input image passed\n",
    "as an np blob or as a file name, with the undistort() method. \n",
    "\"\"\"\n",
    "class Camera():\n",
    "    def __init__(self, verbose=False):\n",
    "        self.mtx = None\n",
    "        self.rvecs = None\n",
    "        self.tvecs = None\n",
    "        self.shape = None\n",
    "        self.dist = None\n",
    "        self.verbose = verbose\n",
    "        \n",
    "    def calibrate(self, calibration_folder):\n",
    "        images = glob.glob(\"%s/calibration*.jpg\" % calibration_folder)\n",
    "        print('performing calibration on %d images in %s...' % (len(images), calibration_folder))\n",
    "        \n",
    "        objpoints = []\n",
    "        imgpoints = []\n",
    "        nx = 9\n",
    "        ny = 6\n",
    "        objp = np.zeros((ny*nx, 3), np.float32)\n",
    "        objp[:,:2] = np.mgrid[0:nx, 0:ny].T.reshape(-1,2)\n",
    "\n",
    "        for i in images:\n",
    "            if (self.verbose):\n",
    "                print(\"reading calibration file: %s\" % i)\n",
    "            raw_img = mpimg.imread(i)\n",
    "            gray_img = cv2.cvtColor(raw_img, cv2.COLOR_RGB2GRAY)\n",
    "            ret, corners = cv2.findChessboardCorners(gray_img, (nx, ny), None)\n",
    "            self.shape = gray_img.shape[::-1]\n",
    "            if (ret):\n",
    "                imgpoints.append(corners)\n",
    "                objpoints.append(objp)\n",
    "                \n",
    "            elif (self.verbose):\n",
    "                print(\"WARNING:: wrong # of corners found in : \", i)\n",
    "\n",
    "        ret, self.mtx, self.dist, self.rvecs, self.tvecs = cv2.calibrateCamera(objpoints,\n",
    "                                                                          imgpoints, self.shape, None, None)\n",
    "        print(\"calibration complete\")\n",
    "        if (self.verbose):\n",
    "            print(\"mtx: \", self.mtx)\n",
    "            print(\"dist:\", self.dist)\n",
    "            print(\"rvecs: \", self.rvecs)\n",
    "            print(\"tvecs: \", self.tvecs)\n",
    "                \n",
    "    def test_calibration(self, img_file):\n",
    "        img = cv2.imread(img_file)\n",
    "        dst = cv2.undistort(img, self.mtx, self.dist, None, self.mtx)\n",
    "        plt.imshow(dst)\n",
    "    \n",
    "    def undistort(self, img):\n",
    "        if (isinstance(img, np.ndarray)):\n",
    "            return cv2.undistort(img, self.mtx, self.dist, None, self.mtx)\n",
    "        elif (isinstance(img, str)):\n",
    "            raw = cv2.imread(img)\n",
    "            return cv2.undistort(raw, self.mtx, self.dist, None, self.mtx)\n",
    "        else:\n",
    "            raise TypeError(\"input argument is invalid type\", type(img))\n",
    "\n",
    "\n",
    "camera = Camera(verbose=False)\n",
    "camera.calibrate(\"camera_cal\")"
   ]
  },
  {
   "cell_type": "code",
   "execution_count": 38,
   "metadata": {},
   "outputs": [],
   "source": [
    "\"\"\"\n",
    "The SobelFilter class is used process a raw image\n",
    "and return a processed binary image to extract \n",
    "the lane lines\n",
    "\"\"\"\n",
    "class SobelFilter():\n",
    "    def __init__(self, verbose=False):\n",
    "        self.verbose=verbose\n",
    "        self.max = 255\n",
    "\n",
    "    def grayscale(self, img):\n",
    "        return cv2.cvtColor(img, cv2.COLOR_RGB2GRAY)\n",
    "    \n",
    "    def hls_select(self, img, thresh=(140, 255)):\n",
    "        hls = cv2.cvtColor(img, cv2.COLOR_RGB2HLS)\n",
    "        s_channel = hls[:,:,2]\n",
    "\n",
    "        binary = np.zeros_like(img)\n",
    "        binary[(s_channel > thresh[0]) & (s_channel <= thresh[1])] = self.max\n",
    "        \n",
    "        return binary\n",
    "        \n",
    "    def magnitude_threshold(self, img, sobel_kernel=5, threshold=(35, 100)):\n",
    "        gray = self.grayscale(img)\n",
    "        x = cv2.Sobel(gray, cv2.CV_64F, 1, 0, ksize=sobel_kernel)\n",
    "        y = cv2.Sobel(gray, cv2.CV_64F, 0, 1, ksize=sobel_kernel)\n",
    "        magnitude = np.sqrt(x*x + y*y)\n",
    "        scaled = np.uint8(255* magnitude / np.max(magnitude))\n",
    "        binary = np.zeros_like(img)\n",
    "        binary[(scaled >= threshold[0]) & (scaled <= threshold[1])] = self.max\n",
    "        \n",
    "        return binary\n",
    "    \n",
    "    def absolute_threshold(self, img, orient='x', threshold=(35, 100)):\n",
    "        gray = self.grayscale(img)\n",
    "        if orient == 'x':\n",
    "            sobel = np.absolute(cv2.Sobel(gray, cv2.CV_64F, 1, 0))\n",
    "        if orient == 'y':\n",
    "            sobel = np.absolute(cv2.Sobel(gray, cv2.CV_64F, 0, 1))\n",
    "        scaled = np.uint8(255*sobel / np.max(sobel))\n",
    "        binary = np.zeros_like(img)\n",
    "        binary[(scaled >= threshold[0]) & (scaled <= threshold[1])] = self.max\n",
    "        \n",
    "        return binary\n",
    "        \n",
    "    def direction_threshold(self, img, sobel_kernel=15, thresh=(0.7, 1.3)):\n",
    "        gray = self.grayscale(img)\n",
    "        x = cv2.Sobel(gray, cv2.CV_64F, 1, 0, ksize = sobel_kernel)\n",
    "        y = cv2.Sobel(gray, cv2.CV_64F, 0, 1, ksize = sobel_kernel)\n",
    "        direction = np.arctan2(np.absolute(y), np.absolute(x))\n",
    "        binary = np.zeros_like(img)\n",
    "        binary[(direction >= thresh[0]) & (direction <= thresh[1])] = self.max        \n",
    "\n",
    "        return binary\n",
    "    \n",
    "    def process(self, img):\n",
    "        x = self.absolute_threshold(img, 'x')\n",
    "        y = self.absolute_threshold(img, 'y')\n",
    "        magnitude = self.magnitude_threshold(img)\n",
    "        direction = self.direction_threshold(img)        \n",
    "        s = self.hls_select(img)\n",
    "        \n",
    "        output = np.zeros_like(img)\n",
    "        output[((x == self.max) & (y == self.max)) |\n",
    "               ((magnitude == self.max) & (direction == self.max)) |\n",
    "               (s == self.max)] = self.max\n",
    "        \n",
    "        return output"
   ]
  },
  {
   "cell_type": "code",
   "execution_count": 39,
   "metadata": {},
   "outputs": [],
   "source": [
    "\"\"\"\n",
    "The LaneDetector class will detect lanes from images performing the following:\n",
    " 1) Applies a distortion correction to raw images.\n",
    " 2) Uses a set of Sobel filters to threshold the relevant lane line pixels\n",
    " 3) Applies a perspective transform to rectify binary image (\"birds-eye view\").\n",
    " 4) Detects lane pixels and fit to find the lane boundary.\n",
    " 5) Determines the curvature of the lane and vehicle position with respect to center.\n",
    " 6) Warps the detected lane boundaries back onto the original image.\n",
    " 7) Outputs visual display of the lane boundaries and numerical estimation of lane curvature and vehicle position.\n",
    "\"\"\"        \n",
    "class LaneDetector():\n",
    "    def __init__(self, verbose=False):\n",
    "        self.verbose = verbose\n",
    "        self.sobel = SobelFilter()\n",
    "        self.output = None\n",
    "        \n",
    "    def threshold(self, img):        \n",
    "        self.output = self.sobel.process(img)\n",
    "    \n",
    "    def transform(self, img):\n",
    "        return None\n",
    "    \n",
    "    def detect_lanes(self, img):\n",
    "        return None\n",
    "    \n",
    "    def process(self, img):\n",
    "        self.threshold(img)\n",
    "        self.transform(img)\n",
    "        self.detect_lanes(img)\n",
    "        return self.output\n",
    "\n",
    "lane_detector = LaneDetector(verbose=False)"
   ]
  },
  {
   "cell_type": "code",
   "execution_count": 40,
   "metadata": {},
   "outputs": [],
   "source": [
    "def save(image, name, directory):\n",
    "    cv2.imwrite(directory + \"/\" + i, image)\n",
    "\n",
    "test_images = os.listdir(\"test_images/\")\n",
    "\n",
    "for i in test_images:\n",
    "    if (i[-3:] == 'jpg' or i[-3:] == 'png'):\n",
    "        img = mpimg.imread('test_images/%s' % i)\n",
    "        undistored_image = camera.undistort(img)\n",
    "        output = lane_detector.process(undistored_image)\n",
    "        save(output, i, \"output_images\")"
   ]
  },
  {
   "cell_type": "code",
   "execution_count": 6,
   "metadata": {},
   "outputs": [],
   "source": [
    "# Import everything needed to edit/save/watch video clips\n",
    "from moviepy.editor import VideoFileClip\n",
    "from IPython.display import HTML"
   ]
  },
  {
   "cell_type": "code",
   "execution_count": 7,
   "metadata": {},
   "outputs": [],
   "source": [
    "def process_image(image):\n",
    "    # Copy the image argument frame locally, \n",
    "    # otherwise, the full video will be a single frame\n",
    "    img = image\n",
    "\n",
    "    # Pass the raw image through the camera claass\n",
    "    # to find the undistored version\n",
    "    undistored_image = camera.undistort(img)\n",
    "    \n",
    "    # Pass the undistored image through the lane\n",
    "    # detector to find the post processed version\n",
    "    output = lane_detector.process(undistored_image)\n",
    "\n",
    "    # Returns the process imaged back to the \n",
    "    # video processor\n",
    "    return output"
   ]
  },
  {
   "cell_type": "code",
   "execution_count": 8,
   "metadata": {},
   "outputs": [
    {
     "name": "stdout",
     "output_type": "stream",
     "text": [
      "[MoviePy] >>>> Building video output_images/project_video_output.mp4\n",
      "[MoviePy] Writing video output_images/project_video_output.mp4\n"
     ]
    },
    {
     "name": "stderr",
     "output_type": "stream",
     "text": [
      "100%|█████████▉| 1260/1261 [03:47<00:00,  5.59it/s]\n"
     ]
    },
    {
     "name": "stdout",
     "output_type": "stream",
     "text": [
      "[MoviePy] Done.\n",
      "[MoviePy] >>>> Video ready: output_images/project_video_output.mp4 \n",
      "\n",
      "CPU times: user 4min 51s, sys: 8.68 s, total: 5min\n",
      "Wall time: 3min 48s\n"
     ]
    }
   ],
   "source": [
    "output_video = 'output_images/project_video_output.mp4'\n",
    "input_video = VideoFileClip('project_video.mp4')\n",
    "clip = input_video.fl_image(process_image)\n",
    "%time clip.write_videofile(output_video, audio=False)"
   ]
  },
  {
   "cell_type": "code",
   "execution_count": 9,
   "metadata": {},
   "outputs": [
    {
     "data": {
      "text/html": [
       "\n",
       "<video width=\"960\" height=\"540\" controls>\n",
       "  <source src=\"output_images/project_video_output.mp4\">\n",
       "</video>\n"
      ],
      "text/plain": [
       "<IPython.core.display.HTML object>"
      ]
     },
     "execution_count": 9,
     "metadata": {},
     "output_type": "execute_result"
    }
   ],
   "source": [
    "HTML(\"\"\"\n",
    "<video width=\"960\" height=\"540\" controls>\n",
    "  <source src=\"{0}\">\n",
    "</video>\n",
    "\"\"\".format(output_video))"
   ]
  }
 ],
 "metadata": {
  "anaconda-cloud": {},
  "kernelspec": {
   "display_name": "Python 3",
   "language": "python",
   "name": "python3"
  },
  "language_info": {
   "codemirror_mode": {
    "name": "ipython",
    "version": 3
   },
   "file_extension": ".py",
   "mimetype": "text/x-python",
   "name": "python",
   "nbconvert_exporter": "python",
   "pygments_lexer": "ipython3",
   "version": "3.5.2"
  },
  "widgets": {
   "state": {},
   "version": "1.1.2"
  }
 },
 "nbformat": 4,
 "nbformat_minor": 1
}
